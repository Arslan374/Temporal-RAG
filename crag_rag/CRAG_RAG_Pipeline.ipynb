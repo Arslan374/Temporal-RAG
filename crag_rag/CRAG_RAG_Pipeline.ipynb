{
 "cells": [
  {
   "cell_type": "markdown",
   "id": "818b69c2",
   "metadata": {},
   "source": [
    "# CRAG RAG Pipeline: Interactive Notebook Template\n",
    "\n",
    "This notebook demonstrates how to use the modular CRAG RAG pipeline for data loading, index building, running the pipeline, and evaluation (including LLM-based evaluation)."
   ]
  },
  {
   "cell_type": "code",
   "execution_count": 1,
   "id": "397f0992",
   "metadata": {},
   "outputs": [
    {
     "name": "stdout",
     "output_type": "stream",
     "text": [
      "Collecting transformers (from -r ../requirements.txt (line 1))\n",
      "  Using cached transformers-4.53.3-py3-none-any.whl.metadata (40 kB)\n",
      "Collecting torch (from -r ../requirements.txt (line 2))\n",
      "  Downloading torch-2.7.1-cp312-cp312-manylinux_2_28_x86_64.whl.metadata (29 kB)\n",
      "\u001b[31mERROR: Could not find a version that satisfies the requirement faiss-gpu (from versions: none)\u001b[0m\u001b[31m\n",
      "\u001b[0m\u001b[31mERROR: No matching distribution found for faiss-gpu\u001b[0m\u001b[31m\n",
      "\u001b[0m"
     ]
    }
   ],
   "source": [
    "# Install dependencies if needed\n",
    "!pip install -r ../requirements.txt\n"
   ]
  },
  {
   "cell_type": "markdown",
   "id": "86acd929",
   "metadata": {},
   "source": [
    "## 1. Imports and Setup"
   ]
  },
  {
   "cell_type": "code",
   "execution_count": 1,
   "id": "ea585da0",
   "metadata": {},
   "outputs": [
    {
     "name": "stderr",
     "output_type": "stream",
     "text": [
      "/home/arslan/miniconda3/envs/thesis/lib/python3.12/site-packages/tqdm/auto.py:21: TqdmWarning: IProgress not found. Please update jupyter and ipywidgets. See https://ipywidgets.readthedocs.io/en/stable/user_install.html\n",
      "  from .autonotebook import tqdm as notebook_tqdm\n"
     ]
    }
   ],
   "source": [
    "import os\n",
    "import json\n",
    "from crag_rag import (\n",
    "    load_json_dataset, preprocess_crag_sample, preprocess_crag_document,\n",
    "    DocumentEncoder, VectorStore, TimeAwareModule,\n",
    "    NormalQueryEncoder, TemporalQueryEncoder, QueryRouter,\n",
    "    LLMGenerator, SimpleRAG, TemporalRAGPipeline, Evaluator\n",
    ")\n"
   ]
  },
  {
   "cell_type": "markdown",
   "id": "2d6b4c8f",
   "metadata": {},
   "source": [
    "## 2. Load and Preprocess CRAG Data"
   ]
  },
  {
   "cell_type": "code",
   "execution_count": 3,
   "id": "af27d823",
   "metadata": {},
   "outputs": [],
   "source": [
    "# Path to your CRAG dataset (JSONL)\n",
    "crag_path = '../crag_data/crag_task_1_dev_v4_release.jsonl.bz2'  # Update as needed\n"
   ]
  },
  {
   "cell_type": "code",
   "execution_count": 15,
   "id": "c2e2e19e",
   "metadata": {},
   "outputs": [
    {
     "name": "stdout",
     "output_type": "stream",
     "text": [
      "Loaded 2706 questions.\n"
     ]
    }
   ],
   "source": [
    "import bz2\n",
    "samples = []\n",
    "with bz2.open(crag_path, 'rt', encoding='utf-8') as f:\n",
    "    for line in f:\n",
    "        samples.append(json.loads(line))\n",
    "questions = [preprocess_crag_sample(s) for s in samples]\n",
    "print(f'Loaded {len(questions)} questions.')\n"
   ]
  },
  {
   "cell_type": "markdown",
   "id": "286ec5fe",
   "metadata": {},
   "source": [
    "## 3. Build or Load Document Index"
   ]
  },
  {
   "cell_type": "code",
   "execution_count": 8,
   "id": "a95980bc",
   "metadata": {},
   "outputs": [
    {
     "name": "stdout",
     "output_type": "stream",
     "text": [
      "VectorStore initialized with embedding dimension: 384\n",
      "VectorStore index loaded from index_data/document_index.faiss\n"
     ]
    }
   ],
   "source": [
    "# Build index (run once)\n",
    "# from scripts.build_index import build_document_index\n",
    "# build_document_index(crag_path, output_dir='index_data')\n",
    "\n",
    "# Load index\n",
    "index_dir = 'index_data'\n",
    "vector_store = VectorStore(embedding_dim=384)\n",
    "vector_store.load_index(os.path.join(index_dir, 'document_index.faiss'))\n"
   ]
  },
  {
   "cell_type": "markdown",
   "id": "ef9c7810",
   "metadata": {},
   "source": [
    "## 4. Initialize Pipeline Components"
   ]
  },
  {
   "cell_type": "code",
   "execution_count": null,
   "id": "a08ea5cd",
   "metadata": {},
   "outputs": [
    {
     "name": "stdout",
     "output_type": "stream",
     "text": [
      "TimeAwareModule initialized with basic temporal keyword patterns.\n",
      "NormalQueryEncoder loaded model sentence-transformers/all-MiniLM-L6-v2 on cuda\n",
      "Error loading fine-tuned Contriever model: We couldn't connect to 'https://huggingface.co' to load the files, and couldn't find them in the cached files.\n",
      "Check your internet connection or see how to run the library in offline mode at 'https://huggingface.co/docs/transformers/installation#offline-mode'.\n",
      "Please ensure 'model_path' is correct and compatible with AutoModel.from_pretrained or provide custom loading logic.\n",
      "QueryRouter initialized.\n",
      "Error loading LLM model distilbert/distilgpt2: We couldn't connect to 'https://huggingface.co' to load the files, and couldn't find them in the cached files.\n",
      "Check your internet connection or see how to run the library in offline mode at 'https://huggingface.co/docs/transformers/installation#offline-mode'.\n",
      "Please ensure the model name is correct and you have enough resources.\n"
     ]
    },
    {
     "ename": "NameError",
     "evalue": "name 'vector_store' is not defined",
     "output_type": "error",
     "traceback": [
      "\u001b[31m---------------------------------------------------------------------------\u001b[39m",
      "\u001b[31mNameError\u001b[39m                                 Traceback (most recent call last)",
      "\u001b[36mCell\u001b[39m\u001b[36m \u001b[39m\u001b[32mIn[5]\u001b[39m\u001b[32m, line 6\u001b[39m\n\u001b[32m      4\u001b[39m router = QueryRouter(time_aware, normal_enc, temporal_enc)\n\u001b[32m      5\u001b[39m llm = LLMGenerator()\n\u001b[32m----> \u001b[39m\u001b[32m6\u001b[39m pipeline = TemporalRAGPipeline(time_aware, router, \u001b[43mvector_store\u001b[49m, llm)\n",
      "\u001b[31mNameError\u001b[39m: name 'vector_store' is not defined"
     ]
    }
   ],
   "source": [
    "time_aware = TimeAwareModule()\n",
    "normal_enc = NormalQueryEncoder()\n"
   ]
  },
  {
   "cell_type": "code",
   "execution_count": 6,
   "id": "0e8293a6",
   "metadata": {},
   "outputs": [
    {
     "name": "stdout",
     "output_type": "stream",
     "text": [
      "Error loading fine-tuned Contriever model: We couldn't connect to 'https://huggingface.co' to load the files, and couldn't find them in the cached files.\n",
      "Check your internet connection or see how to run the library in offline mode at 'https://huggingface.co/docs/transformers/installation#offline-mode'.\n",
      "Please ensure 'model_path' is correct and compatible with AutoModel.from_pretrained or provide custom loading logic.\n"
     ]
    }
   ],
   "source": [
    "temporal_enc = TemporalQueryEncoder(model_path='../models/Tscontriever/pytorch_model.bin')  # Update path\n"
   ]
  },
  {
   "cell_type": "code",
   "execution_count": 10,
   "id": "c8cd970b",
   "metadata": {},
   "outputs": [
    {
     "name": "stdout",
     "output_type": "stream",
     "text": [
      "QueryRouter initialized.\n"
     ]
    }
   ],
   "source": [
    "router = QueryRouter(time_aware, normal_enc, temporal_enc)\n"
   ]
  },
  {
   "cell_type": "code",
   "execution_count": 12,
   "id": "d426a376",
   "metadata": {},
   "outputs": [
    {
     "name": "stderr",
     "output_type": "stream",
     "text": [
      "Xet Storage is enabled for this repo, but the 'hf_xet' package is not installed. Falling back to regular HTTP download. For better performance, install the package with: `pip install huggingface_hub[hf_xet]` or `pip install hf_xet`\n",
      "Device set to use cuda\n"
     ]
    },
    {
     "name": "stdout",
     "output_type": "stream",
     "text": [
      "LLMGenerator loaded model distilbert/distilgpt2 on cuda\n"
     ]
    }
   ],
   "source": [
    "llm = LLMGenerator()\n"
   ]
  },
  {
   "cell_type": "code",
   "execution_count": 13,
   "id": "04c8d329",
   "metadata": {},
   "outputs": [
    {
     "name": "stdout",
     "output_type": "stream",
     "text": [
      "TemporalRAGPipeline initialized with re-ranking weights: {'semantic': 0.5, 'temporal_metadata': 0.3, 'temporal_content': 0.2}\n"
     ]
    }
   ],
   "source": [
    "pipeline = TemporalRAGPipeline(time_aware, router, vector_store, llm)\n"
   ]
  },
  {
   "cell_type": "markdown",
   "id": "9d31322a",
   "metadata": {},
   "source": [
    "## 5. Run Pipeline on a Sample Question"
   ]
  },
  {
   "cell_type": "code",
   "execution_count": 16,
   "id": "69aa346c",
   "metadata": {},
   "outputs": [
    {
     "name": "stderr",
     "output_type": "stream",
     "text": [
      "Token indices sequence length is longer than the specified maximum sequence length for this model (2458 > 1024). Running this sequence through the model will result in indexing errors\n",
      "The following generation flags are not valid and may be ignored: ['temperature']. Set `TRANSFORMERS_VERBOSITY=info` for more details.\n",
      "Setting `pad_token_id` to `eos_token_id`:50256 for open-end generation.\n"
     ]
    },
    {
     "name": "stdout",
     "output_type": "stream",
     "text": [
      "Question: how many 3-point attempts did steve nash average per game in seasons he made the 50-40-90 club?\n",
      "Query 'how many 3-point attempts did steve nash average per game in seasons he made the 50-40-90 club?' identified as non-temporal. Using NormalQueryEncoder.\n",
      "Generated Answer: Error during answer generation: CUDA error: device-side assert triggered\n",
      "CUDA kernel errors might be asynchronously reported at some other API call, so the stacktrace below might be incorrect.\n",
      "For debugging consider passing CUDA_LAUNCH_BLOCKING=1\n",
      "Compile with `TORCH_USE_CUDA_DSA` to enable device-side assertions.\n",
      "\n",
      "Gold Answer: 4 3-points attempts per game\n"
     ]
    },
    {
     "name": "stderr",
     "output_type": "stream",
     "text": [
      "/opt/conda/conda-bld/pytorch_1729647378361/work/aten/src/ATen/native/cuda/Indexing.cu:1308: indexSelectLargeIndex: block: [14,0,0], thread: [64,0,0] Assertion `srcIndex < srcSelectDimSize` failed.\n",
      "/opt/conda/conda-bld/pytorch_1729647378361/work/aten/src/ATen/native/cuda/Indexing.cu:1308: indexSelectLargeIndex: block: [14,0,0], thread: [65,0,0] Assertion `srcIndex < srcSelectDimSize` failed.\n",
      "/opt/conda/conda-bld/pytorch_1729647378361/work/aten/src/ATen/native/cuda/Indexing.cu:1308: indexSelectLargeIndex: block: [14,0,0], thread: [66,0,0] Assertion `srcIndex < srcSelectDimSize` failed.\n",
      "/opt/conda/conda-bld/pytorch_1729647378361/work/aten/src/ATen/native/cuda/Indexing.cu:1308: indexSelectLargeIndex: block: [14,0,0], thread: [67,0,0] Assertion `srcIndex < srcSelectDimSize` failed.\n",
      "/opt/conda/conda-bld/pytorch_1729647378361/work/aten/src/ATen/native/cuda/Indexing.cu:1308: indexSelectLargeIndex: block: [14,0,0], thread: [68,0,0] Assertion `srcIndex < srcSelectDimSize` failed.\n",
      "/opt/conda/conda-bld/pytorch_1729647378361/work/aten/src/ATen/native/cuda/Indexing.cu:1308: indexSelectLargeIndex: block: [14,0,0], thread: [69,0,0] Assertion `srcIndex < srcSelectDimSize` failed.\n",
      "/opt/conda/conda-bld/pytorch_1729647378361/work/aten/src/ATen/native/cuda/Indexing.cu:1308: indexSelectLargeIndex: block: [14,0,0], thread: [70,0,0] Assertion `srcIndex < srcSelectDimSize` failed.\n",
      "/opt/conda/conda-bld/pytorch_1729647378361/work/aten/src/ATen/native/cuda/Indexing.cu:1308: indexSelectLargeIndex: block: [14,0,0], thread: [71,0,0] Assertion `srcIndex < srcSelectDimSize` failed.\n",
      "/opt/conda/conda-bld/pytorch_1729647378361/work/aten/src/ATen/native/cuda/Indexing.cu:1308: indexSelectLargeIndex: block: [14,0,0], thread: [72,0,0] Assertion `srcIndex < srcSelectDimSize` failed.\n",
      "/opt/conda/conda-bld/pytorch_1729647378361/work/aten/src/ATen/native/cuda/Indexing.cu:1308: indexSelectLargeIndex: block: [14,0,0], thread: [73,0,0] Assertion `srcIndex < srcSelectDimSize` failed.\n",
      "/opt/conda/conda-bld/pytorch_1729647378361/work/aten/src/ATen/native/cuda/Indexing.cu:1308: indexSelectLargeIndex: block: [14,0,0], thread: [74,0,0] Assertion `srcIndex < srcSelectDimSize` failed.\n",
      "/opt/conda/conda-bld/pytorch_1729647378361/work/aten/src/ATen/native/cuda/Indexing.cu:1308: indexSelectLargeIndex: block: [14,0,0], thread: [75,0,0] Assertion `srcIndex < srcSelectDimSize` failed.\n",
      "/opt/conda/conda-bld/pytorch_1729647378361/work/aten/src/ATen/native/cuda/Indexing.cu:1308: indexSelectLargeIndex: block: [14,0,0], thread: [76,0,0] Assertion `srcIndex < srcSelectDimSize` failed.\n",
      "/opt/conda/conda-bld/pytorch_1729647378361/work/aten/src/ATen/native/cuda/Indexing.cu:1308: indexSelectLargeIndex: block: [14,0,0], thread: [77,0,0] Assertion `srcIndex < srcSelectDimSize` failed.\n",
      "/opt/conda/conda-bld/pytorch_1729647378361/work/aten/src/ATen/native/cuda/Indexing.cu:1308: indexSelectLargeIndex: block: [14,0,0], thread: [78,0,0] Assertion `srcIndex < srcSelectDimSize` failed.\n",
      "/opt/conda/conda-bld/pytorch_1729647378361/work/aten/src/ATen/native/cuda/Indexing.cu:1308: indexSelectLargeIndex: block: [14,0,0], thread: [79,0,0] Assertion `srcIndex < srcSelectDimSize` failed.\n",
      "/opt/conda/conda-bld/pytorch_1729647378361/work/aten/src/ATen/native/cuda/Indexing.cu:1308: indexSelectLargeIndex: block: [14,0,0], thread: [80,0,0] Assertion `srcIndex < srcSelectDimSize` failed.\n",
      "/opt/conda/conda-bld/pytorch_1729647378361/work/aten/src/ATen/native/cuda/Indexing.cu:1308: indexSelectLargeIndex: block: [14,0,0], thread: [81,0,0] Assertion `srcIndex < srcSelectDimSize` failed.\n",
      "/opt/conda/conda-bld/pytorch_1729647378361/work/aten/src/ATen/native/cuda/Indexing.cu:1308: indexSelectLargeIndex: block: [14,0,0], thread: [82,0,0] Assertion `srcIndex < srcSelectDimSize` failed.\n",
      "/opt/conda/conda-bld/pytorch_1729647378361/work/aten/src/ATen/native/cuda/Indexing.cu:1308: indexSelectLargeIndex: block: [14,0,0], thread: [83,0,0] Assertion `srcIndex < srcSelectDimSize` failed.\n",
      "/opt/conda/conda-bld/pytorch_1729647378361/work/aten/src/ATen/native/cuda/Indexing.cu:1308: indexSelectLargeIndex: block: [14,0,0], thread: [84,0,0] Assertion `srcIndex < srcSelectDimSize` failed.\n",
      "/opt/conda/conda-bld/pytorch_1729647378361/work/aten/src/ATen/native/cuda/Indexing.cu:1308: indexSelectLargeIndex: block: [14,0,0], thread: [85,0,0] Assertion `srcIndex < srcSelectDimSize` failed.\n",
      "/opt/conda/conda-bld/pytorch_1729647378361/work/aten/src/ATen/native/cuda/Indexing.cu:1308: indexSelectLargeIndex: block: [14,0,0], thread: [86,0,0] Assertion `srcIndex < srcSelectDimSize` failed.\n",
      "/opt/conda/conda-bld/pytorch_1729647378361/work/aten/src/ATen/native/cuda/Indexing.cu:1308: indexSelectLargeIndex: block: [14,0,0], thread: [87,0,0] Assertion `srcIndex < srcSelectDimSize` failed.\n",
      "/opt/conda/conda-bld/pytorch_1729647378361/work/aten/src/ATen/native/cuda/Indexing.cu:1308: indexSelectLargeIndex: block: [14,0,0], thread: [88,0,0] Assertion `srcIndex < srcSelectDimSize` failed.\n",
      "/opt/conda/conda-bld/pytorch_1729647378361/work/aten/src/ATen/native/cuda/Indexing.cu:1308: indexSelectLargeIndex: block: [14,0,0], thread: [89,0,0] Assertion `srcIndex < srcSelectDimSize` failed.\n",
      "/opt/conda/conda-bld/pytorch_1729647378361/work/aten/src/ATen/native/cuda/Indexing.cu:1308: indexSelectLargeIndex: block: [14,0,0], thread: [90,0,0] Assertion `srcIndex < srcSelectDimSize` failed.\n",
      "/opt/conda/conda-bld/pytorch_1729647378361/work/aten/src/ATen/native/cuda/Indexing.cu:1308: indexSelectLargeIndex: block: [14,0,0], thread: [91,0,0] Assertion `srcIndex < srcSelectDimSize` failed.\n",
      "/opt/conda/conda-bld/pytorch_1729647378361/work/aten/src/ATen/native/cuda/Indexing.cu:1308: indexSelectLargeIndex: block: [14,0,0], thread: [92,0,0] Assertion `srcIndex < srcSelectDimSize` failed.\n",
      "/opt/conda/conda-bld/pytorch_1729647378361/work/aten/src/ATen/native/cuda/Indexing.cu:1308: indexSelectLargeIndex: block: [14,0,0], thread: [93,0,0] Assertion `srcIndex < srcSelectDimSize` failed.\n",
      "/opt/conda/conda-bld/pytorch_1729647378361/work/aten/src/ATen/native/cuda/Indexing.cu:1308: indexSelectLargeIndex: block: [14,0,0], thread: [94,0,0] Assertion `srcIndex < srcSelectDimSize` failed.\n",
      "/opt/conda/conda-bld/pytorch_1729647378361/work/aten/src/ATen/native/cuda/Indexing.cu:1308: indexSelectLargeIndex: block: [14,0,0], thread: [95,0,0] Assertion `srcIndex < srcSelectDimSize` failed.\n"
     ]
    }
   ],
   "source": [
    "q = questions[0]\n",
    "print('Question:', q['text'])\n",
    "answer = pipeline.answer_question(q['text'])\n",
    "print('Generated Answer:', answer)\n",
    "print('Gold Answer:', q['answer'])\n"
   ]
  },
  {
   "cell_type": "markdown",
   "id": "bb796267",
   "metadata": {},
   "source": [
    "## 6. Batch Evaluation (Exact Match)"
   ]
  },
  {
   "cell_type": "code",
   "execution_count": null,
   "id": "7910eb25",
   "metadata": {},
   "outputs": [],
   "source": [
    "evaluator = Evaluator()\n",
    "results = evaluator.run_evaluation_suite(pipeline, questions[:10])  # Use a small batch for demo\n",
    "print(results)\n"
   ]
  },
  {
   "cell_type": "markdown",
   "id": "df72bf21",
   "metadata": {},
   "source": [
    "## 7. LLM-based Evaluation (Optional, Requires OpenAI API Key)\n",
    "You can use OpenAI's GPT-3.5/4 or HuggingFace LLMs to judge the quality of generated answers.\n",
    "Below is a template for OpenAI-based evaluation."
   ]
  },
  {
   "cell_type": "code",
   "execution_count": null,
   "id": "7bf30482",
   "metadata": {},
   "outputs": [],
   "source": [
    "# !pip install openai\n",
    "import openai\n",
    "openai.api_key = 'sk-...'  # Set your OpenAI API key\n",
    "\n",
    "def gpt_judge(question, gold, pred):\n",
    "    prompt = f'''\n",
    "    You are an expert judge.\n",
    "    Question: {question}\n",
    "    Gold Answer: {gold}\n",
    "    Predicted Answer: {pred}\n",
    "    Is the predicted answer correct, partially correct, or incorrect?\n",
    "    Respond with one of: CORRECT, PARTIAL, INCORRECT, and a short justification.\n",
    "    '''\n",
    "    response = openai.ChatCompletion.create(\n",
    "        model='gpt-3.5-turbo',\n",
    "        messages=[{'role': 'user', 'content': prompt}],\n",
    "        max_tokens=100\n",
    "    )\n",
    "    return response['choices'][0]['message']['content']\n",
    "\n",
    "# Example usage:\n",
    "# judge_result = gpt_judge(q['text'], q['answer'], answer)\n",
    "# print(judge_result)\n"
   ]
  }
 ],
 "metadata": {
  "kernelspec": {
   "display_name": "thesis",
   "language": "python",
   "name": "python3"
  },
  "language_info": {
   "codemirror_mode": {
    "name": "ipython",
    "version": 3
   },
   "file_extension": ".py",
   "mimetype": "text/x-python",
   "name": "python",
   "nbconvert_exporter": "python",
   "pygments_lexer": "ipython3",
   "version": "3.12.11"
  }
 },
 "nbformat": 4,
 "nbformat_minor": 5
}
